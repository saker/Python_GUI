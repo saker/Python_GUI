{
 "cells": [
  {
   "cell_type": "markdown",
   "id": "4e5d3068",
   "metadata": {},
   "source": [
    "## Basic GUI"
   ]
  },
  {
   "cell_type": "code",
   "execution_count": null,
   "id": "8a748d38",
   "metadata": {},
   "outputs": [],
   "source": [
    "import tkinter as tk\n",
    "\n",
    "app = tk.Tk()\n",
    "app.title(\"Hello world\")\n",
    "app.geometry(\"500x500\")  #GUI with width/height\n",
    "app.mainloop()"
   ]
  },
  {
   "cell_type": "markdown",
   "id": "53c60197",
   "metadata": {},
   "source": [
    "## Change Windows Size & Position"
   ]
  },
  {
   "cell_type": "code",
   "execution_count": null,
   "id": "d3266b30",
   "metadata": {},
   "outputs": [],
   "source": [
    "import tkinter as tk\n",
    "\n",
    "app = tk.Tk()\n",
    "app.title(\"Hello world\")\n",
    "app.geometry(\"500x500+450+50\") #GUI with width/height + x/y Padding\n",
    "app.mainloop()"
   ]
  },
  {
   "attachments": {},
   "cell_type": "markdown",
   "id": "a37a247d",
   "metadata": {},
   "source": [
    "## Center Windows on Screen (Recommend)"
   ]
  },
  {
   "cell_type": "code",
   "execution_count": null,
   "id": "beb7855e",
   "metadata": {},
   "outputs": [],
   "source": [
    "import tkinter as tk\n",
    "\n",
    "app = tk.Tk()\n",
    "\n",
    "#Get screen width and height\n",
    "screen_width = app.winfo_screenwidth()\n",
    "screen_height = app.winfo_screenheight()\n",
    "\n",
    "(width, height) = (500, 500) #Windows GUI with width/height\n",
    "\n",
    "#Calucate Top/Left Corner\n",
    "x = (screen_width / 2) - (width /2)\n",
    "y = (screen_height / 2) - (height /2) #1.75 is better\n",
    "app.title(\"Hello world\")\n",
    "app.geometry(\"%dx%d+%d+%d\"%(width, height, x, y)) #GUI with width/height + x/y Padding\n",
    "\n",
    "app.resizable(False, False) #Fixed Windows Size (Not Resizable)\n",
    "\n",
    "app.mainloop()"
   ]
  },
  {
   "cell_type": "code",
   "execution_count": null,
   "id": "57962ce3",
   "metadata": {},
   "outputs": [],
   "source": [
    "print(\"Screen Width/Height\", screen_width, screen_height)\n",
    "print(\"Corner X/Y\", x, y)"
   ]
  },
  {
   "cell_type": "markdown",
   "id": "db9d8eed",
   "metadata": {},
   "source": [
    "## Label Widget"
   ]
  },
  {
   "cell_type": "code",
   "execution_count": null,
   "id": "c2ac71ff",
   "metadata": {},
   "outputs": [],
   "source": [
    "import tkinter as tk\n",
    "from tkinter import ttk  #Import newer widgets\n",
    "\n",
    "app = tk.Tk()\n",
    "app.title(\"Python GUI Demo\")\n",
    "app.geometry(\"300x300+500+100\") #GUI with width/height + x/y Padding\n",
    "\n",
    "label = ttk.Label(app,\n",
    "    text = \"Hello, Tkinter\",\n",
    "    font = (\"Tahoma\", 10),\n",
    "    foreground = \"white\",    #Text Color Foregound\n",
    "    background = \"black\",    #Text Color Backgound\n",
    "    width = 20               \n",
    ")\n",
    "\n",
    "label.grid(row = 0, column = 0, padx = 100, pady = 100) #Position Label\n",
    "\n",
    "app.mainloop()"
   ]
  },
  {
   "cell_type": "markdown",
   "id": "d9c4e93d",
   "metadata": {},
   "source": [
    "## Button Widget"
   ]
  },
  {
   "cell_type": "code",
   "execution_count": null,
   "id": "8d2baf6a",
   "metadata": {},
   "outputs": [],
   "source": [
    "import tkinter as tk\n",
    "from tkinter import ttk  #Import newer widgets\n",
    "\n",
    "app = tk.Tk()\n",
    "app.title(\"Python GUI Demo\")\n",
    "app.geometry(\"300x300+500+100\") #GUI with width/height + x/y Padding\n",
    "\n",
    "button = ttk.Button(app,\n",
    "    text = \"Click me!\",\n",
    "    width = 10\n",
    ")\n",
    "\n",
    "button.grid(row = 0, column = 0, padx = 100, pady = 100) #Position button\n",
    "\n",
    "app.mainloop()"
   ]
  },
  {
   "cell_type": "markdown",
   "id": "84c87ceb",
   "metadata": {},
   "source": [
    "### Button Widget Command Binding"
   ]
  },
  {
   "cell_type": "code",
   "execution_count": null,
   "id": "07964d13",
   "metadata": {},
   "outputs": [],
   "source": [
    "import tkinter as tk\n",
    "from tkinter import ttk  #Import newer widgets\n",
    "\n",
    "def button_clicked():\n",
    "    print('Button clicked')\n",
    "\n",
    "app = tk.Tk()\n",
    "app.title(\"Python GUI Demo\")\n",
    "app.geometry(\"300x300+500+100\") #GUI with width/height + x/y Padding\n",
    "\n",
    "button = ttk.Button(app,\n",
    "    text = \"Click me!\",\n",
    "    width = 10,\n",
    "    command = button_clicked\n",
    ")\n",
    "\n",
    "button.grid(row = 0, column = 0, padx = 100, pady = 100) #Position button\n",
    "\n",
    "app.mainloop()"
   ]
  },
  {
   "cell_type": "markdown",
   "id": "fbbf3bdf",
   "metadata": {},
   "source": [
    "## Entry Box Widget"
   ]
  },
  {
   "cell_type": "code",
   "execution_count": null,
   "id": "a55ffadd",
   "metadata": {},
   "outputs": [],
   "source": [
    "import tkinter as tk\n",
    "from tkinter import ttk  #Import newer widgets\n",
    "\n",
    "app = tk.Tk()\n",
    "app.title(\"Python GUI Demo\")\n",
    "app.geometry(\"300x300+500+100\") #GUI with width/height + x/y Padding\n",
    "\n",
    "label = ttk.Label(app,\n",
    "    text = \"Input Name\",\n",
    "    font = (\"Tahoma\", 10),\n",
    "    foreground = \"red\",    #Text Color Foregound\n",
    "    width = 10\n",
    ")\n",
    "\n",
    "entry = ttk.Entry(app,\n",
    "    font = (\"Tahoma\", 10),\n",
    "    width = 20\n",
    ")\n",
    "\n",
    "label.grid(row = 0, column = 0, padx = 10, pady = 50) #Position Label\n",
    "entry.grid(row = 0, column = 1, padx = 10, pady = 50) #Position entry box\n",
    "\n",
    "app.mainloop()"
   ]
  },
  {
   "cell_type": "markdown",
   "id": "335631b1",
   "metadata": {},
   "source": [
    "### Entry Box String Variables"
   ]
  },
  {
   "cell_type": "code",
   "execution_count": null,
   "id": "fedc7822",
   "metadata": {},
   "outputs": [],
   "source": [
    "import tkinter as tk\n",
    "from tkinter import ttk  #Import newer widgets\n",
    "\n",
    "app = tk.Tk()\n",
    "app.title(\"Python GUI Demo\")\n",
    "app.geometry(\"150x150+500+100\") #GUI with width/height + x/y Padding\n",
    "\n",
    "# store email address and password\n",
    "email = tk.StringVar()\n",
    "password = tk.StringVar()\n",
    "\n",
    "def button_clicked():\n",
    "    print('Email', email.get())\n",
    "    print('Password', password.get())\n",
    "\n",
    "#Email\n",
    "email_label = ttk.Label(app, text = \"Email Address:\")\n",
    "email_entry = ttk.Entry(app, textvariable = email)\n",
    "\n",
    "#Password\n",
    "password_label = ttk.Label(app, text = \"Password:\")\n",
    "password_entry = ttk.Entry(app, textvariable = password)\n",
    "\n",
    "#login button\n",
    "login_button = ttk.Button(app, text = \"Login\", command = button_clicked)\n",
    "\n",
    "email_label.grid(row = 0, column = 0)\n",
    "email_entry.grid(row = 1, column = 0)\n",
    "\n",
    "password_label.grid(row = 2, column = 0)\n",
    "password_entry.grid(row = 3, column = 0)\n",
    "\n",
    "login_button.grid(row = 4, column = 0)\n",
    "\n",
    "app.mainloop()"
   ]
  },
  {
   "cell_type": "markdown",
   "id": "85a54ef8",
   "metadata": {},
   "source": [
    "## Text Box Widget (Only in tk module)"
   ]
  },
  {
   "cell_type": "code",
   "execution_count": null,
   "id": "aa64a618",
   "metadata": {},
   "outputs": [],
   "source": [
    "import tkinter as tk\n",
    "from tkinter import ttk  #Import newer widgets\n",
    "\n",
    "app = tk.Tk()\n",
    "app.title(\"Python GUI Demo\")\n",
    "app.geometry(\"300x300+500+100\") #GUI with width/height + x/y Padding\n",
    "\n",
    "def button_clicked():\n",
    "    print(txtbox.get('1.0','end'))\n",
    "    \n",
    "label = ttk.Label(app,\n",
    "    text = \"Input Name\",\n",
    "    font = (\"Tahoma\", 10),\n",
    "    foreground = \"red\",    #Text Color Foregound\n",
    "    width = 10\n",
    ")\n",
    "\n",
    "txtbox = tk.Text(app,\n",
    "    font = \"Tahoma 10 bold\",\n",
    "    fg = \"white\",    #Text Color Foreground\n",
    "    bg = \"black\",    #Text Color Background\n",
    "    width = 50,\n",
    "    height = 5\n",
    ")\n",
    "\n",
    "button = ttk.Button(app,\n",
    "    text = \"Show Text\",\n",
    "    command = button_clicked)\n",
    "\n",
    "#Use Insert to Input text\n",
    "txtbox.insert('1.0', \"Merkator\")              \n",
    "txtbox.insert(tk.END, \" Co., ltd.\")           \n",
    "txtbox.insert(tk.END, \"\\nBangkok Thailand\")  \n",
    "\n",
    "label.grid(row = 0, column = 0)\n",
    "txtbox.grid(row = 0, column = 1)\n",
    "button.grid(row = 1, column = 0)\n",
    "\n",
    "app.mainloop()"
   ]
  },
  {
   "cell_type": "markdown",
   "id": "72db8dce",
   "metadata": {},
   "source": [
    "## Scrollbar Widget (Not Recomend)"
   ]
  },
  {
   "cell_type": "code",
   "execution_count": null,
   "id": "cc9c414c",
   "metadata": {},
   "outputs": [],
   "source": [
    "import tkinter as tk\n",
    "from tkinter import ttk #Import newer widgets\n",
    "\n",
    "app = tk.Tk()\n",
    "app.title(\"Scrollbar Widget Example\")\n",
    "\n",
    "# create the text widget\n",
    "textbox = tk.Text(app,\n",
    "    height = 10,\n",
    ")\n",
    "\n",
    "# create a scrollbar widget and set its command to the text widget\n",
    "scrollbar = ttk.Scrollbar(app,\n",
    "    orient = 'vertical',\n",
    "    command = textbox.yview,\n",
    ")\n",
    "\n",
    "#  communicate back to the scrollbar\n",
    "textbox['yscrollcommand'] = scrollbar.set\n",
    "\n",
    "\n",
    "# add sample text to the text widget to show the screen\n",
    "for i in range(1, 20):\n",
    "    textbox.insert('%d.0'%i, 'Line %d\\n'%i)\n",
    "\n",
    "textbox.grid(row = 0, column = 0)\n",
    "scrollbar.grid(row = 0, column = 1)   \n",
    "    \n",
    "app.mainloop()"
   ]
  },
  {
   "cell_type": "markdown",
   "id": "097fed91",
   "metadata": {},
   "source": [
    "## ScrolledText widget (Text box+Scroll bar) (Recommend)"
   ]
  },
  {
   "cell_type": "code",
   "execution_count": null,
   "id": "d1cd36e7",
   "metadata": {},
   "outputs": [],
   "source": [
    "import tkinter as tk\n",
    "from tkinter.scrolledtext import ScrolledText #Import ScrolledText widget\n",
    "\n",
    "app = tk.Tk()\n",
    "app.title(\"ScrolledText Widget Example\")\n",
    "\n",
    "# create a scrolltext Widget\n",
    "scrolltext= ScrolledText(app,\n",
    "    width = 50,\n",
    "    height = 10\n",
    ")\n",
    "\n",
    "# add sample text to the text widget to show the screen\n",
    "for i in range(1, 20):\n",
    "    scrolltext.insert('%d.0'%i, 'Line %d\\n'%i)\n",
    "\n",
    "scrolltext.grid(row = 0, column = 0)\n",
    "    \n",
    "app.mainloop()"
   ]
  },
  {
   "cell_type": "markdown",
   "id": "7c6405f8",
   "metadata": {},
   "source": [
    "## Checkbox Widget"
   ]
  },
  {
   "cell_type": "code",
   "execution_count": 14,
   "id": "4afa2caf",
   "metadata": {},
   "outputs": [
    {
     "name": "stdout",
     "output_type": "stream",
     "text": [
      "Checkbox Status: 0\n"
     ]
    }
   ],
   "source": [
    "import tkinter as tk\n",
    "from tkinter import ttk  #Import newer widgets\n",
    "\n",
    "app = tk.Tk()\n",
    "app.title(\"Python GUI Demo\")\n",
    "app.geometry(\"300x300+500+100\") #GUI with width/height + x/y Padding\n",
    "\n",
    "check_flag = tk.StringVar()\n",
    "check_flag.set(1) #Default = 0 (unchecked)\n",
    "\n",
    "def checkbox_changed():\n",
    "    print('Checkbox Status:', check_flag.get())\n",
    "\n",
    "chkbox = ttk.Checkbutton(app,\n",
    "    text = 'Checked Status',\n",
    "    command = checkbox_changed,\n",
    "    variable = check_flag,\n",
    ")\n",
    "\n",
    "#checkbox is checked = 1\n",
    "#checkbox is unchecked = 0\n",
    "\n",
    "chkbox.grid(row = 0, column = 0)\n",
    "\n",
    "app.mainloop()"
   ]
  },
  {
   "cell_type": "code",
   "execution_count": null,
   "id": "3d5b2bca",
   "metadata": {},
   "outputs": [],
   "source": []
  },
  {
   "cell_type": "markdown",
   "id": "a17ad51b",
   "metadata": {},
   "source": [
    "## Tkinter Grid Geometry Manager"
   ]
  },
  {
   "cell_type": "markdown",
   "id": "bb5b31cf",
   "metadata": {},
   "source": [
    "<img align=\"left\" src=\"https://www.pythontutorial.net/wp-content/uploads/2020/11/Tkinter-Grid-row-and-column-configruation.png\">"
   ]
  },
  {
   "cell_type": "code",
   "execution_count": null,
   "id": "15114828",
   "metadata": {},
   "outputs": [],
   "source": [
    "import tkinter as tk\n",
    "from tkinter import ttk\n",
    "\n",
    "# root window\n",
    "app = tk.Tk()\n",
    "app.geometry(\"240x100\")\n",
    "app.title('Login')\n",
    "app.resizable(False, False)\n",
    "\n",
    "# configure the grid\n",
    "app.columnconfigure(0, weight = 1)  #1 เท่าปกติ\n",
    "app.columnconfigure(1, weight = 3)  #3 เท่าของ Column 0\n",
    "\n",
    "# username\n",
    "username_label = ttk.Label(app, text=\"Username:\")\n",
    "username_label.grid(row=0, column=0, sticky=tk.W, padx=5, pady=5)\n",
    "\n",
    "username_entry = ttk.Entry(app)\n",
    "username_entry.grid(row=0, column=1, sticky=tk.E, padx=5, pady=5)\n",
    "\n",
    "# password\n",
    "password_label = ttk.Label(app, text=\"Password:\")\n",
    "password_label.grid(row=1, column=0, sticky=tk.W, padx=5, pady=5)\n",
    "\n",
    "password_entry = ttk.Entry(app)\n",
    "password_entry.grid(row=1, column=1, sticky=tk.E, padx=5, pady=5)\n",
    "\n",
    "# login button\n",
    "login_button = ttk.Button(app, text=\"Login\")\n",
    "login_button.grid(row=3, column=1, sticky=tk.E, padx=5, pady=5)\n",
    "\n",
    "app.mainloop()"
   ]
  },
  {
   "cell_type": "markdown",
   "id": "a4f3555c",
   "metadata": {},
   "source": [
    "## Defining a Tkinter object-oriented window (Final Code)"
   ]
  },
  {
   "cell_type": "code",
   "execution_count": null,
   "id": "9135491d",
   "metadata": {},
   "outputs": [],
   "source": [
    "import tkinter as tk\n",
    "from tkinter import ttk\n",
    "from tkinter.messagebox import showinfo\n",
    "\n",
    "class UI(tk.Tk):\n",
    "    def __init__(self):\n",
    "        super().__init__()\n",
    "\n",
    "        # configure the root window\n",
    "        self.title('My Python App')\n",
    "        self.geometry('500x500+450+50')\n",
    "        \n",
    "        # label\n",
    "        label = ttk.Label(self, text='Hello, Tkinter!')\n",
    "\n",
    "        # button\n",
    "        button = ttk.Button(self, text='Click Me', command = self.button_clicked)\n",
    "        \n",
    "        # Grid Layout\n",
    "        label.grid(row = 0, column = 0)\n",
    "        button.grid(row = 0, column = 1)\n",
    "    \n",
    "    def button_clicked(self):\n",
    "        showinfo(title='Information', message='Hello, Tkinter!')\n",
    "\n",
    "if __name__ == \"__main__\":\n",
    "    app = UI()\n",
    "    app.mainloop()"
   ]
  },
  {
   "cell_type": "code",
   "execution_count": null,
   "id": "8de3973c",
   "metadata": {},
   "outputs": [],
   "source": []
  },
  {
   "cell_type": "code",
   "execution_count": null,
   "id": "5590c09f",
   "metadata": {},
   "outputs": [],
   "source": []
  }
 ],
 "metadata": {
  "kernelspec": {
   "display_name": "Python 3 (ipykernel)",
   "language": "python",
   "name": "python3"
  },
  "language_info": {
   "codemirror_mode": {
    "name": "ipython",
    "version": 3
   },
   "file_extension": ".py",
   "mimetype": "text/x-python",
   "name": "python",
   "nbconvert_exporter": "python",
   "pygments_lexer": "ipython3",
   "version": "3.8.10"
  }
 },
 "nbformat": 4,
 "nbformat_minor": 5
}
